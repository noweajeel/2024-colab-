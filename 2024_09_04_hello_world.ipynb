{
  "nbformat": 4,
  "nbformat_minor": 0,
  "metadata": {
    "colab": {
      "provenance": []
    },
    "kernelspec": {
      "name": "python3",
      "display_name": "Python 3"
    },
    "language_info": {
      "name": "python"
    }
  },
  "cells": [
    {
      "cell_type": "code",
      "execution_count": null,
      "metadata": {
        "id": "iF0jsIjhRiQV"
      },
      "outputs": [],
      "source": [
        "print(\"hello world\")"
      ]
    },
    {
      "cell_type": "code",
      "source": [
        "print(\"hello python\")"
      ],
      "metadata": {
        "id": "zvKetju5TRtv"
      },
      "execution_count": null,
      "outputs": []
    },
    {
      "cell_type": "markdown",
      "source": [],
      "metadata": {
        "id": "KimuN7-pd0GE"
      }
    },
    {
      "cell_type": "code",
      "source": [
        "import pylab as py\n",
        "\n",
        "x_deg = py.arange(-180, 180+1,)\n",
        "x_rad = py.deg2rad(x_deg)\n",
        "y = py.sin(x_rad)\n",
        "\n",
        "py.plot(x_deg, y)\n",
        "\n",
        "py.xlabel('x(deg)')\n",
        "py.ylabel('sin(x)')\n",
        "py.grid(True)\n"
      ],
      "metadata": {
        "id": "1AM0PqnId1qz"
      },
      "execution_count": null,
      "outputs": []
    },
    {
      "cell_type": "code",
      "source": [],
      "metadata": {
        "id": "1MPGL4LPgTAl"
      },
      "execution_count": null,
      "outputs": []
    }
  ]
}